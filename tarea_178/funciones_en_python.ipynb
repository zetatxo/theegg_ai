{
 "cells": [
  {
   "cell_type": "markdown",
   "metadata": {},
   "source": [
    "<h2>10 ejercicios prácticos para la tarea de <em>\"Las funciones en Python\"</em> 😊😊😊</h2>"
   ]
  },
  {
   "cell_type": "markdown",
   "metadata": {},
   "source": [
    "------------------------------------------------------------------------------------------------------<br>\n",
    "<h3 style=\"background:#87a1c2; color:#ffffff; padding:20px; border-radius:5px;\">1.- ✍ Función que calcule el máximo de 2 números</h3><br>\n",
    "------------------------------------------------------------------------------------------------------<br>\n"
   ]
  },
  {
   "cell_type": "code",
   "execution_count": 1,
   "metadata": {},
   "outputs": [
    {
     "name": "stdout",
     "output_type": "stream",
     "text": [
      "Son iguales\n"
     ]
    }
   ],
   "source": [
    "def numMax (n1, n2):\n",
    "    if n1 < n2:\n",
    "        print (n2)\n",
    "    elif n2 < n1:\n",
    "        print (n1)\n",
    "    else:\n",
    "        print (\"Son iguales\")\n",
    "        \n",
    "numMax (90,90)"
   ]
  },
  {
   "cell_type": "markdown",
   "metadata": {},
   "source": [
    "------------------------------------------------------------------------------------------------------<br>\n",
    "<h3 style=\"background:#87a1c2; color:#ffffff; padding:20px; border-radius:5px;\">2.- ✍ Función que calcule el máximo de 3 números</h3><br>\n",
    "------------------------------------------------------------------------------------------------------<br>\n"
   ]
  },
  {
   "cell_type": "code",
   "execution_count": 2,
   "metadata": {},
   "outputs": [
    {
     "name": "stdout",
     "output_type": "stream",
     "text": [
      "3\n"
     ]
    }
   ],
   "source": [
    "def maxNum (n1, n2, n3):\n",
    "    if n1 > n2 and n1 > n3:\n",
    "        print (n1)\n",
    "    elif n2 > n1 and n2 > n3:\n",
    "        print (n2)\n",
    "    elif n3 > n1 and n3 > n2:\n",
    "        print (n3)\n",
    "    else:\n",
    "        print (\"Son iguales\")\n",
    "        \n",
    "maxNum(1,2,3)"
   ]
  },
  {
   "cell_type": "markdown",
   "metadata": {},
   "source": [
    "------------------------------------------------------------------------------------------------------<br>\n",
    "<h3 style=\"background:#87a1c2; color:#ffffff; padding:20px; border-radius:5px;\">3.- ✍ Función que calcule la longitud de una frase</h3><br>\n",
    "------------------------------------------------------------------------------------------------------<br>"
   ]
  },
  {
   "cell_type": "code",
   "execution_count": 3,
   "metadata": {},
   "outputs": [
    {
     "name": "stdout",
     "output_type": "stream",
     "text": [
      "67\n"
     ]
    }
   ],
   "source": [
    "def longitud (param):\n",
    "    kont = 0\n",
    "    for z in param:\n",
    "        kont += 1\n",
    "    return kont\n",
    "\n",
    "retorno=longitud(\"Esta es la asignatura de Mantenimiento de Dispositivos Industriales\")\n",
    "print (retorno)"
   ]
  },
  {
   "cell_type": "markdown",
   "metadata": {},
   "source": [
    "------------------------------------------------------------------------------------------------------<br>\n",
    "<h3 style=\"background:#87a1c2; color:#ffffff; padding:20px; border-radius:5px;\">5.- ✍ Función que determine si el carácter introducido es vocal o no</h3><br>\n",
    "------------------------------------------------------------------------------------------------------<br>\n"
   ]
  },
  {
   "cell_type": "code",
   "execution_count": 4,
   "metadata": {},
   "outputs": [
    {
     "data": {
      "text/plain": [
       "False"
      ]
     },
     "execution_count": 4,
     "metadata": {},
     "output_type": "execute_result"
    }
   ],
   "source": [
    "def vocal (x):\n",
    "    if x == \"a\" or x == \"e\" or x == \"i\" or x == \"o\" or x == \"u\":\n",
    "        return True\n",
    "    elif x == \"A\" or x == \"E\" or x == \"I\" or x == \"O\" or x == \"U\":\n",
    "        return True\n",
    "    else:\n",
    "        return False\n",
    "    \n",
    "vocal (\"s\")"
   ]
  },
  {
   "cell_type": "markdown",
   "metadata": {},
   "source": [
    "------------------------------------------------------------------------------------------------------<br>\n",
    "<h3 style=\"background:#87a1c2; color:#ffffff; padding:20px; border-radius:5px;\">5.- ✍ Función que sume y multiplique los valores de una lista</h3><br>\n",
    "------------------------------------------------------------------------------------------------------<br>\n"
   ]
  },
  {
   "cell_type": "code",
   "execution_count": 5,
   "metadata": {},
   "outputs": [
    {
     "name": "stdout",
     "output_type": "stream",
     "text": [
      "24\n",
      "10\n"
     ]
    }
   ],
   "source": [
    "def suma (num):\n",
    "    suma = 0\n",
    "    for i in num:\n",
    "        suma += i\n",
    "    return suma\n",
    "        \n",
    "def multiplica (num):\n",
    "    mult = 1\n",
    "    for i in num:\n",
    "        mult *= i\n",
    "    return mult\n",
    "\n",
    "print (multiplica([1,2,3,4]))\n",
    "print (suma([1,2,3,4]))"
   ]
  },
  {
   "cell_type": "markdown",
   "metadata": {},
   "source": [
    "------------------------------------------------------------------------------------------------------<br>\n",
    "<h3 style=\"background:#87a1c2; color:#ffffff; padding:20px; border-radius:5px;\">6.- ✍ Función que invierta el orden de una frase</h3><br>\n",
    "------------------------------------------------------------------------------------------------------<br>\n"
   ]
  },
  {
   "cell_type": "code",
   "execution_count": 6,
   "metadata": {},
   "outputs": [
    {
     "data": {
      "text/plain": [
       "'allertsE omall em aloh'"
      ]
     },
     "execution_count": 6,
     "metadata": {},
     "output_type": "execute_result"
    }
   ],
   "source": [
    "def invertir (cadena):\n",
    "    #[inicio:fin:paso]\n",
    "    cadenaInvertida = cadena[::-1]\n",
    "    return cadenaInvertida\n",
    "\n",
    "invertir (\"hola me llamo Estrella\")"
   ]
  },
  {
   "cell_type": "markdown",
   "metadata": {},
   "source": [
    "------------------------------------------------------------------------------------------------------<br>\n",
    "<h3 style=\"background:#87a1c2; color:#ffffff; padding:20px; border-radius:5px;\">7.- ✍ Función que encuentre palindromos</h3><br>\n",
    "------------------------------------------------------------------------------------------------------<br>\n"
   ]
  },
  {
   "cell_type": "code",
   "execution_count": 7,
   "metadata": {},
   "outputs": [
    {
     "name": "stdout",
     "output_type": "stream",
     "text": [
      "a\n",
      "an\n",
      "ana\n",
      "Es palíndromo\n"
     ]
    }
   ],
   "source": [
    "def palin (cadena):\n",
    "    guardar = \"\"\n",
    "    kont = len(cadena)\n",
    "    indice = -1\n",
    "    while kont >= 1:\n",
    "        guardar += cadena[indice]\n",
    "        indice = indice + (-1)\n",
    "        kont -= 1\n",
    "        print (guardar)\n",
    "    return guardar\n",
    "\n",
    "palabra = (\"ana\")\n",
    "rtdo = palin (palabra)\n",
    "\n",
    "if palabra==rtdo:\n",
    "    print (\"Es palíndromo\")\n",
    "else:\n",
    "    print (\"No es palíndromo\")"
   ]
  },
  {
   "cell_type": "markdown",
   "metadata": {},
   "source": [
    "------------------------------------------------------------------------------------------------------<br>\n",
    "<h3 style=\"background:#87a1c2; color:#ffffff; padding:20px; border-radius:5px;\">8.- ✍ Comparar 2 listas y ver si se repite algún valor</h3><br>\n",
    "------------------------------------------------------------------------------------------------------<br>\n"
   ]
  },
  {
   "cell_type": "code",
   "execution_count": 8,
   "metadata": {},
   "outputs": [
    {
     "data": {
      "text/plain": [
       "True"
      ]
     },
     "execution_count": 8,
     "metadata": {},
     "output_type": "execute_result"
    }
   ],
   "source": [
    "def superposicion (lista1, lista2):\n",
    "    for i in lista1:\n",
    "        for x in lista2:\n",
    "            if i == x:\n",
    "                return True\n",
    "    return False\n",
    "\n",
    "superposicion([1,2,3,4],[4,6,7])"
   ]
  },
  {
   "cell_type": "markdown",
   "metadata": {},
   "source": [
    "------------------------------------------------------------------------------------------------------<br>\n",
    "<h3 style=\"background:#87a1c2; color:#ffffff; padding:20px; border-radius:5px;\">9.- ✍ Función que escriba una letra n veces</h3><br>\n",
    "------------------------------------------------------------------------------------------------------<br>\n"
   ]
  },
  {
   "cell_type": "code",
   "execution_count": 9,
   "metadata": {},
   "outputs": [
    {
     "name": "stdout",
     "output_type": "stream",
     "text": [
      "aaaaa\n"
     ]
    }
   ],
   "source": [
    "def caracteres (n, caracteres):\n",
    "    print (n * caracteres)\n",
    "    \n",
    "caracteres (5,\"a\")  "
   ]
  },
  {
   "cell_type": "markdown",
   "metadata": {},
   "source": [
    "------------------------------------------------------------------------------------------------------<br>\n",
    "<h3 style=\"background:#87a1c2; color:#ffffff; padding:20px; border-radius:5px;\">10.- ✍ Función que dibuje el histograma de los números que se envíen</h3><br>\n",
    "------------------------------------------------------------------------------------------------------<br>\n"
   ]
  },
  {
   "cell_type": "code",
   "execution_count": 10,
   "metadata": {},
   "outputs": [
    {
     "name": "stdout",
     "output_type": "stream",
     "text": [
      "0000\n",
      "000000000\n",
      "0000000\n",
      "0000000000000000000000000000000000000000\n",
      "00\n"
     ]
    }
   ],
   "source": [
    "def histograma (lista):\n",
    "    for i in lista:\n",
    "        print (i * \"0\")\n",
    "\n",
    "histograma([4, 9, 7,40,2]) "
   ]
  },
  {
   "cell_type": "markdown",
   "metadata": {},
   "source": [
    "<h3>👏👏👏 ¡¡¡Ustedes son lo máximo!!!</h3>"
   ]
  },
  {
   "cell_type": "code",
   "execution_count": null,
   "metadata": {},
   "outputs": [],
   "source": []
  }
 ],
 "metadata": {
  "kernelspec": {
   "display_name": "Python 3",
   "language": "python",
   "name": "python3"
  },
  "language_info": {
   "codemirror_mode": {
    "name": "ipython",
    "version": 3
   },
   "file_extension": ".py",
   "mimetype": "text/x-python",
   "name": "python",
   "nbconvert_exporter": "python",
   "pygments_lexer": "ipython3",
   "version": "3.7.6"
  }
 },
 "nbformat": 4,
 "nbformat_minor": 2
}
